{
 "cells": [
  {
   "cell_type": "code",
   "execution_count": 297,
   "id": "df1e7e2e-4eb2-484c-bd49-fc711e011694",
   "metadata": {},
   "outputs": [],
   "source": [
    "import pandas as pd\n",
    "import numpy as np\n",
    "import matplotlib.pyplot as plt\n",
    "import seaborn as sns"
   ]
  },
  {
   "cell_type": "code",
   "execution_count": 298,
   "id": "ed5acba9-13e3-4d64-a50a-d1dbad247d6f",
   "metadata": {},
   "outputs": [
    {
     "data": {
      "text/html": [
       "<div>\n",
       "<style scoped>\n",
       "    .dataframe tbody tr th:only-of-type {\n",
       "        vertical-align: middle;\n",
       "    }\n",
       "\n",
       "    .dataframe tbody tr th {\n",
       "        vertical-align: top;\n",
       "    }\n",
       "\n",
       "    .dataframe thead th {\n",
       "        text-align: right;\n",
       "    }\n",
       "</style>\n",
       "<table border=\"1\" class=\"dataframe\">\n",
       "  <thead>\n",
       "    <tr style=\"text-align: right;\">\n",
       "      <th></th>\n",
       "      <th>iata_code</th>\n",
       "      <th>airline_name</th>\n",
       "      <th>region</th>\n",
       "      <th>functional_currency</th>\n",
       "      <th>ebit_usd</th>\n",
       "      <th>load_factor</th>\n",
       "      <th>low_cost_carrier</th>\n",
       "      <th>airline_age</th>\n",
       "      <th>num_routes</th>\n",
       "      <th>passenger_yield</th>\n",
       "      <th>ask</th>\n",
       "      <th>avg_fleet_age</th>\n",
       "      <th>fleet_size</th>\n",
       "      <th>aircraft_utilisation</th>\n",
       "    </tr>\n",
       "  </thead>\n",
       "  <tbody>\n",
       "    <tr>\n",
       "      <th>0</th>\n",
       "      <td>ET</td>\n",
       "      <td>Ethiopian Airlines</td>\n",
       "      <td>Africa</td>\n",
       "      <td>ETB</td>\n",
       "      <td>1.032027e+09</td>\n",
       "      <td>0.703</td>\n",
       "      <td>N</td>\n",
       "      <td>78.0</td>\n",
       "      <td>136.0</td>\n",
       "      <td>0.107</td>\n",
       "      <td>6.449871e+10</td>\n",
       "      <td>8.80</td>\n",
       "      <td>154.0</td>\n",
       "      <td>NaN</td>\n",
       "    </tr>\n",
       "    <tr>\n",
       "      <th>1</th>\n",
       "      <td>KQ</td>\n",
       "      <td>Kenya Airways</td>\n",
       "      <td>Africa</td>\n",
       "      <td>KES</td>\n",
       "      <td>7.600000e+07</td>\n",
       "      <td>0.784</td>\n",
       "      <td>N</td>\n",
       "      <td>47.0</td>\n",
       "      <td>42.0</td>\n",
       "      <td>0.111</td>\n",
       "      <td>1.480400e+10</td>\n",
       "      <td>13.50</td>\n",
       "      <td>40.0</td>\n",
       "      <td>NaN</td>\n",
       "    </tr>\n",
       "    <tr>\n",
       "      <th>2</th>\n",
       "      <td>LA</td>\n",
       "      <td>LATAM Airlines</td>\n",
       "      <td>Latin America</td>\n",
       "      <td>USD</td>\n",
       "      <td>1.078165e+09</td>\n",
       "      <td>0.831</td>\n",
       "      <td>N</td>\n",
       "      <td>95.0</td>\n",
       "      <td>148.0</td>\n",
       "      <td>0.090</td>\n",
       "      <td>1.370000e+11</td>\n",
       "      <td>11.48</td>\n",
       "      <td>333.0</td>\n",
       "      <td>NaN</td>\n",
       "    </tr>\n",
       "    <tr>\n",
       "      <th>3</th>\n",
       "      <td>AV</td>\n",
       "      <td>Avianca</td>\n",
       "      <td>Latin America</td>\n",
       "      <td>USD</td>\n",
       "      <td>6.185440e+08</td>\n",
       "      <td>0.824</td>\n",
       "      <td>N</td>\n",
       "      <td>104.0</td>\n",
       "      <td>147.0</td>\n",
       "      <td>0.083</td>\n",
       "      <td>5.470600e+10</td>\n",
       "      <td>9.30</td>\n",
       "      <td>140.0</td>\n",
       "      <td>NaN</td>\n",
       "    </tr>\n",
       "    <tr>\n",
       "      <th>4</th>\n",
       "      <td>AD</td>\n",
       "      <td>Azul Brazilian Airlines</td>\n",
       "      <td>Latin America</td>\n",
       "      <td>BRL</td>\n",
       "      <td>5.968403e+08</td>\n",
       "      <td>0.804</td>\n",
       "      <td>Y</td>\n",
       "      <td>15.0</td>\n",
       "      <td>160.0</td>\n",
       "      <td>0.101</td>\n",
       "      <td>4.400600e+10</td>\n",
       "      <td>7.40</td>\n",
       "      <td>183.0</td>\n",
       "      <td>10.0</td>\n",
       "    </tr>\n",
       "  </tbody>\n",
       "</table>\n",
       "</div>"
      ],
      "text/plain": [
       "  iata_code             airline_name         region functional_currency  \\\n",
       "0        ET       Ethiopian Airlines         Africa                 ETB   \n",
       "1        KQ            Kenya Airways         Africa                 KES   \n",
       "2        LA           LATAM Airlines  Latin America                 USD   \n",
       "3        AV                  Avianca  Latin America                 USD   \n",
       "4        AD  Azul Brazilian Airlines  Latin America                 BRL   \n",
       "\n",
       "       ebit_usd  load_factor low_cost_carrier  airline_age  num_routes  \\\n",
       "0  1.032027e+09        0.703                N         78.0       136.0   \n",
       "1  7.600000e+07        0.784                N         47.0        42.0   \n",
       "2  1.078165e+09        0.831                N         95.0       148.0   \n",
       "3  6.185440e+08        0.824                N        104.0       147.0   \n",
       "4  5.968403e+08        0.804                Y         15.0       160.0   \n",
       "\n",
       "   passenger_yield           ask  avg_fleet_age  fleet_size  \\\n",
       "0            0.107  6.449871e+10           8.80       154.0   \n",
       "1            0.111  1.480400e+10          13.50        40.0   \n",
       "2            0.090  1.370000e+11          11.48       333.0   \n",
       "3            0.083  5.470600e+10           9.30       140.0   \n",
       "4            0.101  4.400600e+10           7.40       183.0   \n",
       "\n",
       "   aircraft_utilisation  \n",
       "0                   NaN  \n",
       "1                   NaN  \n",
       "2                   NaN  \n",
       "3                   NaN  \n",
       "4                  10.0  "
      ]
     },
     "execution_count": 298,
     "metadata": {},
     "output_type": "execute_result"
    }
   ],
   "source": [
    "df = pd.read_csv('airline_data.csv')  \n",
    "df.head(5)"
   ]
  },
  {
   "cell_type": "code",
   "execution_count": 299,
   "id": "23d8b0e1-9590-4a93-baba-8d28bbee828f",
   "metadata": {},
   "outputs": [
    {
     "name": "stdout",
     "output_type": "stream",
     "text": [
      "<class 'pandas.core.frame.DataFrame'>\n",
      "RangeIndex: 100 entries, 0 to 99\n",
      "Data columns (total 14 columns):\n",
      " #   Column                Non-Null Count  Dtype  \n",
      "---  ------                --------------  -----  \n",
      " 0   iata_code             100 non-null    object \n",
      " 1   airline_name          100 non-null    object \n",
      " 2   region                100 non-null    object \n",
      " 3   functional_currency   100 non-null    object \n",
      " 4   ebit_usd              70 non-null     float64\n",
      " 5   load_factor           70 non-null     float64\n",
      " 6   low_cost_carrier      100 non-null    object \n",
      " 7   airline_age           71 non-null     float64\n",
      " 8   num_routes            54 non-null     float64\n",
      " 9   passenger_yield       58 non-null     float64\n",
      " 10  ask                   66 non-null     float64\n",
      " 11  avg_fleet_age         64 non-null     float64\n",
      " 12  fleet_size            72 non-null     float64\n",
      " 13  aircraft_utilisation  21 non-null     float64\n",
      "dtypes: float64(9), object(5)\n",
      "memory usage: 11.1+ KB\n"
     ]
    }
   ],
   "source": [
    "df.info()"
   ]
  },
  {
   "cell_type": "code",
   "execution_count": 300,
   "id": "70697d6d-c045-4400-b299-ab776ab605b6",
   "metadata": {},
   "outputs": [
    {
     "data": {
      "text/plain": [
       "iata_code                0\n",
       "airline_name             0\n",
       "region                   0\n",
       "functional_currency      0\n",
       "ebit_usd                30\n",
       "load_factor             30\n",
       "low_cost_carrier         0\n",
       "airline_age             29\n",
       "num_routes              46\n",
       "passenger_yield         42\n",
       "ask                     34\n",
       "avg_fleet_age           36\n",
       "fleet_size              28\n",
       "aircraft_utilisation    79\n",
       "dtype: int64"
      ]
     },
     "execution_count": 300,
     "metadata": {},
     "output_type": "execute_result"
    }
   ],
   "source": [
    "df.isnull().sum()"
   ]
  },
  {
   "cell_type": "code",
   "execution_count": 301,
   "id": "e92c8978-a6db-43f4-8178-fdaa8618c464",
   "metadata": {},
   "outputs": [
    {
     "data": {
      "image/png": "[encoded data removed]",
      "text/plain": [
       "<Figure size 300x300 with 1 Axes>"
      ]
     },
     "metadata": {},
     "output_type": "display_data"
    }
   ],
   "source": [
    "#Columns with null values before filling them\n",
    "plt.figure(figsize=(3,3))\n",
    "null_counts = df.isnull().sum()\n",
    "null_counts = null_counts[null_counts > 0] \n",
    "sns.barplot(x=null_counts.index, y=null_counts.values)\n",
    "plt.title(\"Columns with Null Values\")\n",
    "plt.ylabel(\"Number of Nulls\")\n",
    "plt.xticks(rotation=45)\n",
    "plt.show()"
   ]
  },
  {
   "cell_type": "code",
   "execution_count": 302,
   "id": "59af85e9-5817-4d60-ba06-69cb848d12c7",
   "metadata": {},
   "outputs": [],
   "source": [
    "# replacing NaN values with its mean\n",
    "from sklearn.impute import SimpleImputer\n",
    "si = SimpleImputer(strategy='mean')\n",
    "null_cols = df.isnull().sum()\n",
    "null_cols = null_cols[null_cols > 0].index.tolist()\n",
    "df[null_cols]=si.fit_transform(df[null_cols])"
   ]
  },
  {
   "cell_type": "code",
   "execution_count": 303,
   "id": "abada9ee",
   "metadata": {},
   "outputs": [
    {
     "data": {
      "image/png": "[encoded data removed]",
      "text/plain": [
       "<Figure size 300x300 with 1 Axes>"
      ]
     },
     "metadata": {},
     "output_type": "display_data"
    }
   ],
   "source": [
    "#Columns with null values after filling them\n",
    "plt.figure(figsize=(3,3))\n",
    "null_counts = df.isnull().sum()\n",
    "null_counts = null_counts[null_counts > 0] \n",
    "sns.barplot(x=null_counts.index, y=null_counts.values)\n",
    "plt.title(\"Columns after replacing their Null Values with its mean\")\n",
    "plt.ylabel(\"Number of Nulls\")\n",
    "plt.xticks(rotation=45)\n",
    "plt.show()"
   ]
  },
  {
   "cell_type": "code",
   "execution_count": 304,
   "id": "6fc32a9b-3970-48e6-a6a6-e097204b4ee5",
   "metadata": {},
   "outputs": [],
   "source": [
    "#encoding categorical data\n",
    "#label encoding for functional currencies\n",
    "from sklearn.preprocessing import LabelEncoder\n",
    "le = LabelEncoder()\n",
    "df['functional_currency_encoded'] = le.fit_transform(df['functional_currency'])\n",
    "df['region_encoded'] = le.fit_transform(df['region'])\n",
    "\n",
    "#label encoding for low_cost_carrier using map method\n",
    "low_cost_dict = {'N': 0, 'Y': 1}\n",
    "df['low_cost_carrier_encoded'] = df['low_cost_carrier'].map(low_cost_dict)\n"
   ]
  },
  {
   "cell_type": "code",
   "execution_count": 305,
   "id": "24a43543",
   "metadata": {},
   "outputs": [
    {
     "data": {
      "text/html": [
       "<div>\n",
       "<style scoped>\n",
       "    .dataframe tbody tr th:only-of-type {\n",
       "        vertical-align: middle;\n",
       "    }\n",
       "\n",
       "    .dataframe tbody tr th {\n",
       "        vertical-align: top;\n",
       "    }\n",
       "\n",
       "    .dataframe thead th {\n",
       "        text-align: right;\n",
       "    }\n",
       "</style>\n",
       "<table border=\"1\" class=\"dataframe\">\n",
       "  <thead>\n",
       "    <tr style=\"text-align: right;\">\n",
       "      <th></th>\n",
       "      <th>iata_code</th>\n",
       "      <th>airline_name</th>\n",
       "      <th>region</th>\n",
       "      <th>functional_currency</th>\n",
       "      <th>ebit_usd</th>\n",
       "      <th>load_factor</th>\n",
       "      <th>low_cost_carrier</th>\n",
       "      <th>airline_age</th>\n",
       "      <th>num_routes</th>\n",
       "      <th>passenger_yield</th>\n",
       "      <th>ask</th>\n",
       "      <th>avg_fleet_age</th>\n",
       "      <th>fleet_size</th>\n",
       "      <th>aircraft_utilisation</th>\n",
       "      <th>functional_currency_encoded</th>\n",
       "      <th>region_encoded</th>\n",
       "      <th>low_cost_carrier_encoded</th>\n",
       "    </tr>\n",
       "  </thead>\n",
       "  <tbody>\n",
       "    <tr>\n",
       "      <th>0</th>\n",
       "      <td>ET</td>\n",
       "      <td>Ethiopian Airlines</td>\n",
       "      <td>Africa</td>\n",
       "      <td>ETB</td>\n",
       "      <td>1.032027e+09</td>\n",
       "      <td>0.703</td>\n",
       "      <td>N</td>\n",
       "      <td>78.0</td>\n",
       "      <td>136.0</td>\n",
       "      <td>0.107</td>\n",
       "      <td>6.449871e+10</td>\n",
       "      <td>8.80</td>\n",
       "      <td>154.0</td>\n",
       "      <td>10.060476</td>\n",
       "      <td>9</td>\n",
       "      <td>0</td>\n",
       "      <td>0</td>\n",
       "    </tr>\n",
       "    <tr>\n",
       "      <th>1</th>\n",
       "      <td>KQ</td>\n",
       "      <td>Kenya Airways</td>\n",
       "      <td>Africa</td>\n",
       "      <td>KES</td>\n",
       "      <td>7.600000e+07</td>\n",
       "      <td>0.784</td>\n",
       "      <td>N</td>\n",
       "      <td>47.0</td>\n",
       "      <td>42.0</td>\n",
       "      <td>0.111</td>\n",
       "      <td>1.480400e+10</td>\n",
       "      <td>13.50</td>\n",
       "      <td>40.0</td>\n",
       "      <td>10.060476</td>\n",
       "      <td>17</td>\n",
       "      <td>0</td>\n",
       "      <td>0</td>\n",
       "    </tr>\n",
       "    <tr>\n",
       "      <th>2</th>\n",
       "      <td>LA</td>\n",
       "      <td>LATAM Airlines</td>\n",
       "      <td>Latin America</td>\n",
       "      <td>USD</td>\n",
       "      <td>1.078165e+09</td>\n",
       "      <td>0.831</td>\n",
       "      <td>N</td>\n",
       "      <td>95.0</td>\n",
       "      <td>148.0</td>\n",
       "      <td>0.090</td>\n",
       "      <td>1.370000e+11</td>\n",
       "      <td>11.48</td>\n",
       "      <td>333.0</td>\n",
       "      <td>10.060476</td>\n",
       "      <td>38</td>\n",
       "      <td>3</td>\n",
       "      <td>0</td>\n",
       "    </tr>\n",
       "    <tr>\n",
       "      <th>3</th>\n",
       "      <td>AV</td>\n",
       "      <td>Avianca</td>\n",
       "      <td>Latin America</td>\n",
       "      <td>USD</td>\n",
       "      <td>6.185440e+08</td>\n",
       "      <td>0.824</td>\n",
       "      <td>N</td>\n",
       "      <td>104.0</td>\n",
       "      <td>147.0</td>\n",
       "      <td>0.083</td>\n",
       "      <td>5.470600e+10</td>\n",
       "      <td>9.30</td>\n",
       "      <td>140.0</td>\n",
       "      <td>10.060476</td>\n",
       "      <td>38</td>\n",
       "      <td>3</td>\n",
       "      <td>0</td>\n",
       "    </tr>\n",
       "    <tr>\n",
       "      <th>4</th>\n",
       "      <td>AD</td>\n",
       "      <td>Azul Brazilian Airlines</td>\n",
       "      <td>Latin America</td>\n",
       "      <td>BRL</td>\n",
       "      <td>5.968403e+08</td>\n",
       "      <td>0.804</td>\n",
       "      <td>Y</td>\n",
       "      <td>15.0</td>\n",
       "      <td>160.0</td>\n",
       "      <td>0.101</td>\n",
       "      <td>4.400600e+10</td>\n",
       "      <td>7.40</td>\n",
       "      <td>183.0</td>\n",
       "      <td>10.000000</td>\n",
       "      <td>5</td>\n",
       "      <td>3</td>\n",
       "      <td>1</td>\n",
       "    </tr>\n",
       "  </tbody>\n",
       "</table>\n",
       "</div>"
      ],
      "text/plain": [
       "  iata_code             airline_name         region functional_currency  \\\n",
       "0        ET       Ethiopian Airlines         Africa                 ETB   \n",
       "1        KQ            Kenya Airways         Africa                 KES   \n",
       "2        LA           LATAM Airlines  Latin America                 USD   \n",
       "3        AV                  Avianca  Latin America                 USD   \n",
       "4        AD  Azul Brazilian Airlines  Latin America                 BRL   \n",
       "\n",
       "       ebit_usd  load_factor low_cost_carrier  airline_age  num_routes  \\\n",
       "0  1.032027e+09        0.703                N         78.0       136.0   \n",
       "1  7.600000e+07        0.784                N         47.0        42.0   \n",
       "2  1.078165e+09        0.831                N         95.0       148.0   \n",
       "3  6.185440e+08        0.824                N        104.0       147.0   \n",
       "4  5.968403e+08        0.804                Y         15.0       160.0   \n",
       "\n",
       "   passenger_yield           ask  avg_fleet_age  fleet_size  \\\n",
       "0            0.107  6.449871e+10           8.80       154.0   \n",
       "1            0.111  1.480400e+10          13.50        40.0   \n",
       "2            0.090  1.370000e+11          11.48       333.0   \n",
       "3            0.083  5.470600e+10           9.30       140.0   \n",
       "4            0.101  4.400600e+10           7.40       183.0   \n",
       "\n",
       "   aircraft_utilisation  functional_currency_encoded  region_encoded  \\\n",
       "0             10.060476                            9               0   \n",
       "1             10.060476                           17               0   \n",
       "2             10.060476                           38               3   \n",
       "3             10.060476                           38               3   \n",
       "4             10.000000                            5               3   \n",
       "\n",
       "   low_cost_carrier_encoded  \n",
       "0                         0  \n",
       "1                         0  \n",
       "2                         0  \n",
       "3                         0  \n",
       "4                         1  "
      ]
     },
     "execution_count": 305,
     "metadata": {},
     "output_type": "execute_result"
    }
   ],
   "source": [
    "df.head()"
   ]
  },
  {
   "cell_type": "code",
   "execution_count": 306,
   "id": "ecea3ee8",
   "metadata": {},
   "outputs": [
    {
     "data": {
      "image/png": "[encoded data removed]",
      "text/plain": [
       "<Figure size 300x300 with 1 Axes>"
      ]
     },
     "metadata": {},
     "output_type": "display_data"
    },
    {
     "data": {
      "image/png": "[encoded data removed]",
      "text/plain": [
       "<Figure size 300x300 with 1 Axes>"
      ]
     },
     "metadata": {},
     "output_type": "display_data"
    }
   ],
   "source": [
    "#checking for outliers\n",
    "plt.figure(figsize=(3,3))\n",
    "plt.title(\"outliers in fleet_size before removing them with IQR method\")\n",
    "sns.boxplot(df['fleet_size'])\n",
    "\n",
    "plt.figure(figsize=(3,3))\n",
    "sns.boxplot(df['ebit_usd'])\n",
    "plt.title(\"outliers in avg_fleet_age before removing them with IQR method\")\n",
    "plt.show()"
   ]
  },
  {
   "cell_type": "code",
   "execution_count": 307,
   "id": "d331bff3",
   "metadata": {},
   "outputs": [],
   "source": [
    "#removing outliers in fleet_size using IQR method\n",
    "q1 = df['fleet_size'].quantile(0.25)\n",
    "q3 = df['fleet_size'].quantile(0.75)\n",
    "IQR = q3 - q1\n",
    "min_range = q1 - (1.5 * IQR)\n",
    "max_range = q3 + (1.5 * IQR)\n",
    "df = df[(df['fleet_size'] <= max_range) & (df['fleet_size'] >= min_range)]\n",
    "\n",
    "#removing outliers in ebit_usd using IQR method\n",
    "q1 = df['ebit_usd'].quantile(0.25)\n",
    "q3 = df['ebit_usd'].quantile(0.75)\n",
    "IQR = q3 - q1\n",
    "min_range = q1 - (1.5 * IQR)\n",
    "max_range = q3 + (1.5 * IQR)\n",
    "df = df[(df['ebit_usd'] <= max_range) & (df['ebit_usd'] >= min_range)]\n"
   ]
  },
  {
   "cell_type": "code",
   "execution_count": 308,
   "id": "d1e09994",
   "metadata": {},
   "outputs": [
    {
     "data": {
      "image/png": "[encoded data removed]",
      "text/plain": [
       "<Figure size 300x300 with 1 Axes>"
      ]
     },
     "metadata": {},
     "output_type": "display_data"
    },
    {
     "data": {
      "image/png": "[encoded data removed]",
      "text/plain": [
       "<Figure size 300x300 with 1 Axes>"
      ]
     },
     "metadata": {},
     "output_type": "display_data"
    }
   ],
   "source": [
    "#after removing outliers\n",
    "plt.figure(figsize=(3,3))\n",
    "plt.title(\"outliers in fleet_size after removing them with IQR method\")\n",
    "sns.boxplot(df['fleet_size'])\n",
    "plt.show()\n",
    "\n",
    "plt.figure(figsize=(3,3))\n",
    "sns.boxplot(df['ebit_usd'])\n",
    "plt.title(\"outliers in ebit_usd after removing them with IQR method\")\n",
    "plt.show()"
   ]
  },
  {
   "cell_type": "code",
   "execution_count": 309,
   "id": "55bce523",
   "metadata": {},
   "outputs": [
    {
     "data": {
      "text/plain": [
       "count      84.000000\n",
       "mean      231.706349\n",
       "std       158.903031\n",
       "min        25.000000\n",
       "25%       144.250000\n",
       "50%       254.555556\n",
       "75%       254.555556\n",
       "max      1057.000000\n",
       "Name: num_routes, dtype: float64"
      ]
     },
     "execution_count": 309,
     "metadata": {},
     "output_type": "execute_result"
    }
   ],
   "source": [
    "df['num_routes'].describe()"
   ]
  },
  {
   "cell_type": "code",
   "execution_count": 310,
   "id": "35340fef",
   "metadata": {},
   "outputs": [
    {
     "data": {
      "text/plain": [
       "count    8.400000e+01\n",
       "mean    -3.033288e-16\n",
       "std      1.006006e+00\n",
       "min     -1.308646e+00\n",
       "25%     -5.536812e-01\n",
       "50%      1.446570e-01\n",
       "75%      1.446570e-01\n",
       "max      5.224887e+00\n",
       "Name: num_routes_fs, dtype: float64"
      ]
     },
     "execution_count": 310,
     "metadata": {},
     "output_type": "execute_result"
    }
   ],
   "source": [
    "#feature scaling of num_routes using standardization\n",
    "from sklearn.preprocessing import StandardScaler\n",
    "ss = StandardScaler()\n",
    "ss.fit(df[['num_routes']])\n",
    "df['num_routes_fs'] = ss.transform(df[['num_routes']])\n",
    "\n",
    "df['num_routes_fs'].describe()\n"
   ]
  },
  {
   "cell_type": "code",
   "execution_count": 311,
   "id": "88ecb714",
   "metadata": {},
   "outputs": [
    {
     "data": {
      "text/plain": [
       "count    84.000000\n",
       "mean      0.813493\n",
       "std       0.045234\n",
       "min       0.628000\n",
       "25%       0.812250\n",
       "50%       0.814914\n",
       "75%       0.837750\n",
       "max       0.905000\n",
       "Name: load_factor, dtype: float64"
      ]
     },
     "execution_count": 311,
     "metadata": {},
     "output_type": "execute_result"
    }
   ],
   "source": [
    "df['load_factor'].describe()"
   ]
  },
  {
   "cell_type": "code",
   "execution_count": 312,
   "id": "84734053",
   "metadata": {},
   "outputs": [
    {
     "data": {
      "text/plain": [
       "count    84.000000\n",
       "mean      0.669651\n",
       "std       0.163299\n",
       "min       0.000000\n",
       "25%       0.665162\n",
       "50%       0.674781\n",
       "75%       0.757220\n",
       "max       1.000000\n",
       "Name: load_factor_fs, dtype: float64"
      ]
     },
     "execution_count": 312,
     "metadata": {},
     "output_type": "execute_result"
    }
   ],
   "source": [
    "#feature scaling of load_factor using min-max scaling or normalization\n",
    "from sklearn.preprocessing import MinMaxScaler\n",
    "ms = MinMaxScaler()\n",
    "ms.fit(df[['load_factor']])\n",
    "df['load_factor_fs'] = ms.transform(df[['load_factor']])\n",
    "df['load_factor_fs'].describe()"
   ]
  },
  {
   "cell_type": "code",
   "execution_count": 313,
   "id": "e8a86ee5",
   "metadata": {},
   "outputs": [],
   "source": [
    "#changing int into float datatype\n",
    "int_cols = df.select_dtypes(include=['int64']).columns.tolist()\n",
    "df[int_cols] = df[int_cols].astype('float64')"
   ]
  },
  {
   "cell_type": "code",
   "execution_count": 314,
   "id": "e64b4415",
   "metadata": {},
   "outputs": [
    {
     "name": "stdout",
     "output_type": "stream",
     "text": [
      "<class 'pandas.core.frame.DataFrame'>\n",
      "Index: 84 entries, 0 to 99\n",
      "Data columns (total 19 columns):\n",
      " #   Column                       Non-Null Count  Dtype  \n",
      "---  ------                       --------------  -----  \n",
      " 0   iata_code                    84 non-null     object \n",
      " 1   airline_name                 84 non-null     object \n",
      " 2   region                       84 non-null     object \n",
      " 3   functional_currency          84 non-null     object \n",
      " 4   ebit_usd                     84 non-null     float64\n",
      " 5   load_factor                  84 non-null     float64\n",
      " 6   low_cost_carrier             84 non-null     object \n",
      " 7   airline_age                  84 non-null     float64\n",
      " 8   num_routes                   84 non-null     float64\n",
      " 9   passenger_yield              84 non-null     float64\n",
      " 10  ask                          84 non-null     float64\n",
      " 11  avg_fleet_age                84 non-null     float64\n",
      " 12  fleet_size                   84 non-null     float64\n",
      " 13  aircraft_utilisation         84 non-null     float64\n",
      " 14  functional_currency_encoded  84 non-null     float64\n",
      " 15  region_encoded               84 non-null     float64\n",
      " 16  low_cost_carrier_encoded     84 non-null     float64\n",
      " 17  num_routes_fs                84 non-null     float64\n",
      " 18  load_factor_fs               84 non-null     float64\n",
      "dtypes: float64(14), object(5)\n",
      "memory usage: 13.1+ KB\n"
     ]
    }
   ],
   "source": [
    "df.info()\n"
   ]
  },
  {
   "cell_type": "code",
   "execution_count": 315,
   "id": "f9c69544",
   "metadata": {},
   "outputs": [],
   "source": [
    "import sqlite3"
   ]
  },
  {
   "cell_type": "code",
   "execution_count": 316,
   "id": "04927e66",
   "metadata": {},
   "outputs": [
    {
     "data": {
      "text/plain": [
       "84"
      ]
     },
     "execution_count": 316,
     "metadata": {},
     "output_type": "execute_result"
    }
   ],
   "source": [
    "conn = sqlite3.connect(':memory:') \n",
    "df.to_sql('airlines', conn, index=False, if_exists='replace')\n"
   ]
  },
  {
   "cell_type": "code",
   "execution_count": 317,
   "id": "1e80e26b",
   "metadata": {},
   "outputs": [
    {
     "name": "stdout",
     "output_type": "stream",
     "text": [
      "      airline_name  fleet_size\n",
      "0          EasyJet       336.0\n",
      "1   LATAM Airlines       333.0\n",
      "2  Alaska Airlines       314.0\n",
      "3          JetBlue       300.0\n",
      "4           IndiGo       300.0\n"
     ]
    }
   ],
   "source": [
    "#sql query to get top airlines name and fleet size\n",
    "query = '''\n",
    "SELECT airline_name, fleet_size\n",
    "FROM airlines\n",
    "ORDER BY fleet_size DESC\n",
    "LIMIT 5;\n",
    "'''\n",
    "\n",
    "result_df = pd.read_sql_query(query, conn)\n",
    "print(result_df)\n"
   ]
  },
  {
   "cell_type": "code",
   "execution_count": 318,
   "id": "a9574d51",
   "metadata": {},
   "outputs": [
    {
     "name": "stdout",
     "output_type": "stream",
     "text": [
      "          region    avg_age\n",
      "0    Middle East   8.580885\n",
      "1   Asia Pacific   9.345481\n",
      "2  Latin America   9.827552\n",
      "3  North America  10.472062\n",
      "4         Europe  10.556191\n",
      "5         Africa  11.150000\n"
     ]
    },
    {
     "data": {
      "image/png": "[encoded data removed]",
      "text/plain": [
       "<Figure size 1200x600 with 1 Axes>"
      ]
     },
     "metadata": {},
     "output_type": "display_data"
    }
   ],
   "source": [
    "#sql query to get average fleet age by region and to visulaize it\n",
    "query = '''\n",
    "SELECT region, AVG(avg_fleet_age) AS avg_age\n",
    "FROM airlines\n",
    "GROUP BY region\n",
    "ORDER BY avg_age ASC;\n",
    "'''\n",
    "\n",
    "result_df = pd.read_sql_query(query, conn)\n",
    "print(result_df)\n",
    "\n",
    "plt.figure(figsize=(12, 6))\n",
    "sns.lineplot(data=result_df, x='region', y='avg_age', marker='o')\n",
    "plt.xticks(rotation=45)\n",
    "plt.title(\"Average Fleet Age by region\")\n",
    "plt.xlabel(\"regiony\")\n",
    "plt.ylabel(\"Avg Fleet Age\")\n",
    "plt.tight_layout()\n",
    "plt.show()\n",
    "\n"
   ]
  },
  {
   "cell_type": "code",
   "execution_count": 319,
   "id": "d0e1d307",
   "metadata": {},
   "outputs": [
    {
     "name": "stdout",
     "output_type": "stream",
     "text": [
      "   min_fleet  max_fleet   avg_fleet\n",
      "0       10.0      336.0  151.217593\n"
     ]
    }
   ],
   "source": [
    "#sql query to get fleet distribution stats\n",
    "query = '''\n",
    "SELECT \n",
    "    MIN(fleet_size) AS min_fleet,\n",
    "    MAX(fleet_size) AS max_fleet,\n",
    "    AVG(fleet_size) AS avg_fleet\n",
    "FROM airlines;\n",
    "'''\n",
    "result_df = pd.read_sql_query(query, conn)\n",
    "print(result_df)\n"
   ]
  },
  {
   "cell_type": "code",
   "execution_count": 320,
   "id": "765bd1cd",
   "metadata": {},
   "outputs": [
    {
     "name": "stdout",
     "output_type": "stream",
     "text": [
      "Empty DataFrame\n",
      "Columns: [iata_code, airline_name, region, functional_currency, ebit_usd, load_factor, low_cost_carrier, airline_age, num_routes, passenger_yield, ask, avg_fleet_age, fleet_size, aircraft_utilisation, functional_currency_encoded, region_encoded, low_cost_carrier_encoded, num_routes_fs, load_factor_fs]\n",
      "Index: []\n"
     ]
    }
   ],
   "source": [
    "#sql query to get missing values in ask {gives empty because I've optimised the dataset :) }\n",
    "query = '''\n",
    "SELECT *\n",
    "FROM airlines\n",
    "WHERE ask IS NULL;\n",
    "'''\n",
    "\n",
    "result_df = pd.read_sql_query(query, conn)\n",
    "print(result_df)"
   ]
  },
  {
   "cell_type": "code",
   "execution_count": 321,
   "id": "a147f1cb",
   "metadata": {},
   "outputs": [],
   "source": [
    "df.to_csv('cleaned_airline_data.csv', index=False)\n"
   ]
  }
 ],
 "metadata": {
  "kernelspec": {
   "display_name": ".venv",
   "language": "python",
   "name": "python3"
  },
  "language_info": {
   "codemirror_mode": {
    "name": "ipython",
    "version": 3
   },
   "file_extension": ".py",
   "mimetype": "text/x-python",
   "name": "python",
   "nbconvert_exporter": "python",
   "pygments_lexer": "ipython3",
   "version": "3.12.6"
  }
 },
 "nbformat": 4,
 "nbformat_minor": 5
}
